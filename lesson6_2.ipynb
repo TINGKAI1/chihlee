{
 "cells": [
  {
   "cell_type": "code",
   "execution_count": 2,
   "metadata": {},
   "outputs": [
    {
     "data": {
      "text/plain": [
       "55"
      ]
     },
     "execution_count": 2,
     "metadata": {},
     "output_type": "execute_result"
    }
   ],
   "source": [
    "#while迴圈明確知道執行的次數\n",
    "value = 0\n",
    "i = 1\n",
    "while i<=10:\n",
    "    value += i\n",
    "    i += 1\n",
    "value"
   ]
  },
  {
   "cell_type": "code",
   "execution_count": 14,
   "metadata": {},
   "outputs": [
    {
     "name": "stdout",
     "output_type": "stream",
     "text": [
      "請輸第2月份的存款:652\n",
      "請輸第4月份的存款:'62+' is not an integer.\n",
      "請輸第4月份的存款:Blank values are not allowed.\n",
      "請輸第4月份的存款:26\n",
      "請輸第6月份的存款:20\n",
      "請輸第8月份的存款:Blank values are not allowed.\n",
      "請輸第8月份的存款:Blank values are not allowed.\n",
      "請輸第8月份的存款:Blank values are not allowed.\n",
      "請輸第8月份的存款:Blank values are not allowed.\n",
      "請輸第8月份的存款:Blank values are not allowed.\n",
      "請輸第8月份的存款:Blank values are not allowed.\n",
      "請輸第8月份的存款:Blank values are not allowed.\n",
      "請輸第8月份的存款:Blank values are not allowed.\n",
      "請輸第8月份的存款:Blank values are not allowed.\n",
      "請輸第8月份的存款:Blank values are not allowed.\n",
      "請輸第8月份的存款:'6s2626262' is not an integer.\n",
      "請輸第8月份的存款:6265216512\n",
      "恭喜!已經存夠了,總存款為6265217210\n"
     ]
    }
   ],
   "source": [
    "#小明想要存錢買一輛機車,機車每輛30000元，他將每月存的錢輸入，當存款足夠買機車時，就顯示提示訊息告知。\n",
    "#不知道執行的次數\n",
    "\n",
    "import pyinputplus as pyip\n",
    "\n",
    "num = 0\n",
    "deposit = 0\n",
    "while(deposit < 30000):\n",
    "    num += 1\n",
    "    month_value = pyip.inputInt(f\"請輸第{num}月份的存款:\")\n",
    "    print(month_value)\n",
    "    deposit += month_value\n",
    "\n",
    "print(f\"恭喜!已經存夠了,總存款為{deposit}\")"
   ]
  },
  {
   "cell_type": "code",
   "execution_count": 34,
   "metadata": {},
   "outputs": [
    {
     "name": "stdout",
     "output_type": "stream",
     "text": [
      "請輸入學生成績:560\n",
      "請輸入學生成績:-1\n",
      "學生總分為:560\n"
     ]
    }
   ],
   "source": [
    "#小美是一位教師，請你以while迴圈方式為小美設計一個輸入成績的程式，如果輸入負數表示成績輸入結束，在輸入成績結束後顯示班上總成績及平均成績。\n",
    "inputValue = 0\n",
    "sum = 0\n",
    "while(inputValue >= 0):\n",
    "    inputValue = pyip.inputInt(\"請輸入學生成績:\")\n",
    "    print(inputValue)\n",
    "    if inputValue >= 0:\n",
    "        sum += inputValue\n",
    "\n",
    "print(f\"學生總分為:{sum}\")"
   ]
  },
  {
   "cell_type": "code",
   "execution_count": 18,
   "metadata": {},
   "outputs": [
    {
     "name": "stdout",
     "output_type": "stream",
     "text": [
      "請輸入學生成績:260\n",
      "請輸入學生成績:50\n",
      "請輸入學生成績:50\n",
      "請輸入學生成績:60\n",
      "請輸入學生成績:-1\n",
      "學生總分為:420\n"
     ]
    }
   ],
   "source": [
    "#小美是一位教師，請你以while迴圈方式為小美設計一個輸入成績的程式，如果輸入負數表示成績輸入結束，在輸入成績結束後顯示班上總成績及平均成績。\n",
    "\n",
    "sum = 0\n",
    "while(True):\n",
    "    inputValue = pyip.inputInt(\"請輸入學生成績:\")\n",
    "    print(inputValue)\n",
    "    if inputValue < 0:\n",
    "        break\n",
    "    sum += inputValue\n",
    "\n",
    "print(f\"學生總分為:{sum}\")"
   ]
  },
  {
   "cell_type": "code",
   "execution_count": 23,
   "metadata": {},
   "outputs": [
    {
     "name": "stdout",
     "output_type": "stream",
     "text": [
      "請輸入學生成績:600\n",
      "請輸入學生成績:600\n",
      "請輸入學生成績:600\n",
      "請輸入學生成績:-1\n",
      "學生總分為:1800,學生平均為:600.0\n"
     ]
    }
   ],
   "source": [
    "#小美是一位教師，請你以while迴圈方式為小美設計一個輸入成績的程式，如果輸入負數表示成績輸入結束，在輸入成績結束後顯示班上總成績及平均成績。\n",
    "\n",
    "sum = 0\n",
    "num =0\n",
    "while(True):\n",
    "    inputValue = pyip.inputInt(\"請輸入學生成績:\")\n",
    "    print(inputValue)\n",
    "    if inputValue < 0:\n",
    "        break\n",
    "\n",
    "    num += 1\n",
    "    sum += inputValue\n",
    "\n",
    "print(f\"學生總分為:{sum},學生平均為:{sum/num}\")"
   ]
  },
  {
   "cell_type": "code",
   "execution_count": 35,
   "metadata": {},
   "outputs": [
    {
     "name": "stdout",
     "output_type": "stream",
     "text": [
      "9\n",
      "25\n",
      "81\n",
      "應用程式結束\n"
     ]
    }
   ],
   "source": [
    "#顯示:\n",
    "#奇數輸出平方\n",
    "#偶數不做任何動作\n",
    "#'q'要離開\n",
    "while(True):\n",
    "    value = input(\"請輸入整數,輸入[q]離開:\")\n",
    "    if value == 'q':\n",
    "        break\n",
    "    valueInt = int(value)\n",
    "    if (valueInt % 2) == 1:\n",
    "        print(valueInt ** 2)\n",
    "print(\"應用程式結束\")"
   ]
  },
  {
   "cell_type": "code",
   "execution_count": 38,
   "metadata": {},
   "outputs": [
    {
     "name": "stdout",
     "output_type": "stream",
     "text": [
      "63的平方是3969 \n",
      "應用程式結束\n"
     ]
    }
   ],
   "source": [
    "#顯示:\n",
    "#奇數輸出平方\n",
    "#偶數不做任何動作\n",
    "#'q'要離開\n",
    "while(True):\n",
    "    value = input(\"請輸入整數,輸入[q]離開:\")\n",
    "    if value == 'q':\n",
    "        break\n",
    "    try:\n",
    "        valueInt = int(value)\n",
    "    except:\n",
    "        print(\"輸入錯誤,請重新輸入\")\n",
    "        continue\n",
    "    \n",
    "    if (valueInt % 2) == 1:\n",
    "        print(f\"{valueInt}的平方是{valueInt ** 2} \")\n",
    "    else:\n",
    "        print(\"不做事\")\n",
    "\n",
    "print(\"應用程式結束\")\n",
    "    "
   ]
  }
 ],
 "metadata": {
  "kernelspec": {
   "display_name": "Python 3",
   "language": "python",
   "name": "python3"
  },
  "language_info": {
   "codemirror_mode": {
    "name": "ipython",
    "version": 3
   },
   "file_extension": ".py",
   "mimetype": "text/x-python",
   "name": "python",
   "nbconvert_exporter": "python",
   "pygments_lexer": "ipython3",
   "version": "3.10.13"
  }
 },
 "nbformat": 4,
 "nbformat_minor": 2
}
