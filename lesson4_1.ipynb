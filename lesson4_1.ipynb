{
 "cells": [
  {
   "cell_type": "code",
   "execution_count": 12,
   "metadata": {},
   "outputs": [
    {
     "ename": "ValueError",
     "evalue": "invalid literal for int() with base 10: ''",
     "output_type": "error",
     "traceback": [
      "\u001b[0;31m---------------------------------------------------------------------------\u001b[0m",
      "\u001b[0;31mValueError\u001b[0m                                Traceback (most recent call last)",
      "\u001b[1;32m/workspaces/chihlee/lesson4_1.ipynb Cell 1\u001b[0m line \u001b[0;36m6\n\u001b[1;32m      <a href='vscode-notebook-cell://codespaces%2Bturbo-space-sniffle-wrr9j7jgg55jh5jgv/workspaces/chihlee/lesson4_1.ipynb#W1sdnNjb2RlLXJlbW90ZQ%3D%3D?line=0'>1</a>\u001b[0m \u001b[39m#學生總分為300\u001b[39;00m\n\u001b[1;32m      <a href='vscode-notebook-cell://codespaces%2Bturbo-space-sniffle-wrr9j7jgg55jh5jgv/workspaces/chihlee/lesson4_1.ipynb#W1sdnNjb2RlLXJlbW90ZQ%3D%3D?line=1'>2</a>\u001b[0m \u001b[39m#有些學生可以加分5%\u001b[39;00m\n\u001b[1;32m      <a href='vscode-notebook-cell://codespaces%2Bturbo-space-sniffle-wrr9j7jgg55jh5jgv/workspaces/chihlee/lesson4_1.ipynb#W1sdnNjb2RlLXJlbW90ZQ%3D%3D?line=2'>3</a>\u001b[0m \u001b[39m#輸入超過300分,出現警告\u001b[39;00m\n\u001b[1;32m      <a href='vscode-notebook-cell://codespaces%2Bturbo-space-sniffle-wrr9j7jgg55jh5jgv/workspaces/chihlee/lesson4_1.ipynb#W1sdnNjb2RlLXJlbW90ZQ%3D%3D?line=3'>4</a>\u001b[0m \u001b[39m#槽狀判斷\u001b[39;00m\n\u001b[0;32m----> <a href='vscode-notebook-cell://codespaces%2Bturbo-space-sniffle-wrr9j7jgg55jh5jgv/workspaces/chihlee/lesson4_1.ipynb#W1sdnNjb2RlLXJlbW90ZQ%3D%3D?line=5'>6</a>\u001b[0m scores \u001b[39m=\u001b[39m \u001b[39mint\u001b[39;49m(\u001b[39minput\u001b[39;49m(\u001b[39m\"\u001b[39;49m\u001b[39m請輸入學生分數(最高300分):\u001b[39;49m\u001b[39m\"\u001b[39;49m))\n\u001b[1;32m      <a href='vscode-notebook-cell://codespaces%2Bturbo-space-sniffle-wrr9j7jgg55jh5jgv/workspaces/chihlee/lesson4_1.ipynb#W1sdnNjb2RlLXJlbW90ZQ%3D%3D?line=6'>7</a>\u001b[0m \u001b[39mif\u001b[39;00m scores \u001b[39m<\u001b[39m\u001b[39m=\u001b[39m \u001b[39m300\u001b[39m:\n\u001b[1;32m      <a href='vscode-notebook-cell://codespaces%2Bturbo-space-sniffle-wrr9j7jgg55jh5jgv/workspaces/chihlee/lesson4_1.ipynb#W1sdnNjb2RlLXJlbW90ZQ%3D%3D?line=7'>8</a>\u001b[0m     is_add \u001b[39m=\u001b[39m \u001b[39minput\u001b[39m(\u001b[39m\"\u001b[39m\u001b[39m學生是否符合加分條件?(y,n)\u001b[39m\u001b[39m\"\u001b[39m)\n",
      "\u001b[0;31mValueError\u001b[0m: invalid literal for int() with base 10: ''"
     ]
    }
   ],
   "source": [
    "#學生總分為300\n",
    "#有些學生可以加分5%\n",
    "#輸入超過300分,出現警告\n",
    "#槽狀判斷\n",
    "\n",
    "scores = int(input(\"請輸入學生分數(最高300分):\"))\n",
    "if scores <= 300:\n",
    "    is_add = input(\"學生是否符合加分條件?(y,n)\")\n",
    "\n",
    "    #巢狀判斷\n",
    "    if is_add == \"y\":\n",
    "        scores *=1.05\n",
    "        if scores > 300:\n",
    "            scores = 300\n",
    "\n",
    "\n",
    "    print(f\"學生分數是:{scores}\")\n",
    "\n",
    "else:\n",
    "    print(\"輸入錯誤\")"
   ]
  },
  {
   "cell_type": "code",
   "execution_count": 21,
   "metadata": {},
   "outputs": [
    {
     "name": "stdout",
     "output_type": "stream",
     "text": [
      "30.0\n"
     ]
    }
   ],
   "source": [
    "try:\n",
    "    money = int(input(\"請輸入金額:\"))\n",
    "    print(money)\n",
    "except ValueError:\n",
    "    print(\"輸入格式有錯誤\")"
   ]
  }
 ],
 "metadata": {
  "kernelspec": {
   "display_name": "Python 3",
   "language": "python",
   "name": "python3"
  },
  "language_info": {
   "codemirror_mode": {
    "name": "ipython",
    "version": 3
   },
   "file_extension": ".py",
   "mimetype": "text/x-python",
   "name": "python",
   "nbconvert_exporter": "python",
   "pygments_lexer": "ipython3",
   "version": "3.10.13"
  }
 },
 "nbformat": 4,
 "nbformat_minor": 2
}
